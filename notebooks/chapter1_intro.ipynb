{
 "cells": [
  {
   "cell_type": "markdown",
   "metadata": {},
   "source": [
    "# Chapter 1: Dẫn nhập"
   ]
  },
  {
   "cell_type": "markdown",
   "metadata": {},
   "source": [
    "### 1 Decision Tree và nguyên tắc tín dụng\n",
    "\n",
    "+ Có nguyên lí cơ bản nhất trong các giải thuật hệ cây (tree based), tuy nhiên nó cung cấp nền tảng để khám phá các giải thuật khác như:\n",
    "    - Random forest;\n",
    "    - Gradient Boosted Trees;\n",
    "    - AdaBoost (Adaptive Boosting);\n",
    "    - XGBoost (Extreme Gradient Boosting);\n",
    "    - CART (Classification And Regression Tree);\n",
    "    - MARS (Multivariate Adaptive Regression Splines).\n",
    "+ Đặc biệt cho mục đích dự báo;\n",
    "+ Đa số các nghiên cứu chỉ focus vào khả năng phân loại, chưa tìm hiểu được việc rút trích các nguyên tắc từ cây quyết định;\n",
    "+ Ví dụ kinh điển về thẻ điểm tín dụng.\n"
   ]
  },
  {
   "cell_type": "markdown",
   "metadata": {},
   "source": [
    "### 2 SHAP và mức độ giải thích của thuộc tính trong mô hình\n",
    "\n",
    "- Shapley Additive exPlanations là một thuật toán, thường không được dùng độc lập mà được nhúng vào một mô hình supervised learning để giám sát mức độ quan trọng của các features;\n",
    "- Nhúng vào Random forest, ta có thể biết được thuộc tính nào có hay không ảnh hưởng, và theo chiều nào;\n",
    "- Giúp nhận diện điểm mạnh yếu của mô hình, tăng tính giải thích cho nó;\n",
    "- Xác nhận tính đầy đủ của mô hình - nghĩa là nếu có biến quan trọng bị bỏ qua - SHAP sẽ giúp nhận diện;\n",
    "- Đầu ra giống như \"hệ số hồi quy trong các mô hình KT lượng\" tuy nhiên SHAP ko bị giới hạn bởi giả định về tương quan tuyến tính (based Nguyên lý Shapley);\n",
    "- Tính cá nhân hóa cao - cho biết về mức độ ảnh hưởng *cho mỗi quan sát cụ thể*, chứ không phải chỉ cho trung bình toàn mẫu."
   ]
  },
  {
   "cell_type": "markdown",
   "metadata": {},
   "source": [
    "### 3 Xử lí ngôn ngữ tự nhiên và sắc thái cảm xúc của thông tin\n",
    "\n",
    "+ Trong Banking, ngôn ngữ chứ nhiều thông tin quý giá có thể khai thác;\n",
    "+ Sắc thái không chỉ đơn điệu là tích cực hay tiêu cực, mà còn tùy vào quan điểm của người đọc (context);\n",
    "+ Các bước:\n",
    "  - Tạo lập thang đo;\n",
    "  - Dùng các giải thuật NLP để transform chứ thành số: loại bỏ kí tự đặc biệt, dấu câu, sửa lỗi chính tả -> tách từ và xử lí cấu trúc ngữ pháp -> chuyển thành vector số (word embedding) để biểu điễn ngữ nghĩa;\n",
    "  - Khai thác thuật toán để nhận diện: RF, SVM, NN."
   ]
  },
  {
   "cell_type": "markdown",
   "metadata": {},
   "source": [
    "### 4 NN, Keras và mô hình dự báo rủi ro kiệt quệ tài chính doanh nghiệp\n",
    "\n",
    "+ Kiệt quệ tài chính là vấn đề lớn đối với doanh nghiệp, và cả nền kinh tế;\n",
    "+ Các chỉ số cổ điển, từ BCTC, là có độ trễ và thường được chỉnh sửa cho mục đích lợi nhuận và thuế;\n",
    "+ Các thuật toán học máy có thể trích xuất \"cảm xúc\" (???) từ thuyết minh và thông tin có liên quan khác cho việc dự báo;\n",
    "+ Mô hình của Zhao và cộng sự (2022):\n",
    "  - 3 chiều thay vì chỉ đơn thuần 2 chiều -> cho phép nhìn nhận thông tin dưới nhiều góc độ;\n",
    "  - được thiết kế có tính đến độ trễ thời gian;\n",
    "  - NN của Keras."
   ]
  },
  {
   "cell_type": "markdown",
   "metadata": {},
   "source": [
    "### 5 Random Forest regression và dữ liệu chuỗi thời gian\n",
    "\n",
    "- Hồi quy là phương pháp đã được chứng thực về giá trị;\n",
    "- Chương sẽ giới thiệu RF regression, là phương pháp học tăng cường kết hợp hiệu quả của nhiều DT, hơn nữa không chịu giả định về mối quan hệ tuyến tính giữa các biến;\n",
    "- Ví dụ về dự báo giá cổ phiếu."
   ]
  },
  {
   "cell_type": "markdown",
   "metadata": {},
   "source": [
    "### 6 Xác định bộ thuộc tính tối ưu\n",
    "\n",
    "Bước lựa chọn thuộc tính mang lại nhiều lợi ích cho việc phân tích dữ liệu và thiết lập mô hình:\n",
    "- Hiểu cấu trúc và tính quan trọng của dữ liệu;\n",
    "- Dễ so sánh bởi sự lượng hóa;\n",
    "- Mỗi thuộc tính có thể có giá trị quan khác nhau cho các mô hình khác nhau;\n",
    "- Sự kết hợp thuộc tính có thể cộng hưởng cho tính hiệu quả của mô hình;\n",
    "- Mục tiêu là chọn ra tổ hợp thuộc tính tốt nhất.\n"
   ]
  },
  {
   "cell_type": "markdown",
   "metadata": {},
   "source": [
    "### 7 ANN, SHAP và dự báo xu hướng vận động giá chứng quyền\n",
    "\n",
    "- Kết hợp ANN và SHAP;\n",
    "- Không phụ thuộc vào việc thiết lập một số giả định như Black-Scholes."
   ]
  }
 ],
 "metadata": {
  "language_info": {
   "name": "python"
  }
 },
 "nbformat": 4,
 "nbformat_minor": 2
}
